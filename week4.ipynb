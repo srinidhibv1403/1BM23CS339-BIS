{
  "nbformat": 4,
  "nbformat_minor": 0,
  "metadata": {
    "colab": {
      "provenance": [],
      "authorship_tag": "ABX9TyPRgfQs4wcOTYv4EQ335z/h",
      "include_colab_link": true
    },
    "kernelspec": {
      "name": "python3",
      "display_name": "Python 3"
    },
    "language_info": {
      "name": "python"
    }
  },
  "cells": [
    {
      "cell_type": "markdown",
      "metadata": {
        "id": "view-in-github",
        "colab_type": "text"
      },
      "source": [
        "<a href=\"https://colab.research.google.com/github/srinidhibv1403/1BM23CS339-BIS/blob/main/week4.ipynb\" target=\"_parent\"><img src=\"https://colab.research.google.com/assets/colab-badge.svg\" alt=\"Open In Colab\"/></a>"
      ]
    },
    {
      "cell_type": "code",
      "execution_count": 6,
      "metadata": {
        "colab": {
          "base_uri": "https://localhost:8080/"
        },
        "id": "lTUPs11NnAsQ",
        "outputId": "8b04e529-bc04-4885-ef9b-a7c4b4fea3dc"
      },
      "outputs": [
        {
          "output_type": "stream",
          "name": "stdout",
          "text": [
            "Best solution found: [-1.81712676e-05  1.45007457e-04]\n",
            "Best objective value: 2.1357357438781935e-08\n"
          ]
        }
      ],
      "source": [
        "import numpy as np\n",
        "import math  # For gamma function\n",
        "\n",
        "# Objective function (example: Sphere function)\n",
        "def objective_function(x):\n",
        "    return np.sum(x**2)\n",
        "\n",
        "# Lévy flight function to generate step sizes\n",
        "def levy_flight(Lambda, dim):\n",
        "    sigma_u = (math.gamma(1 + Lambda) * np.sin(np.pi * Lambda / 2) /\n",
        "              (math.gamma((1 + Lambda) / 2) * Lambda * 2 ** ((Lambda - 1) / 2))) ** (1 / Lambda)\n",
        "    u = np.random.normal(0, sigma_u, size=dim)\n",
        "    v = np.random.normal(0, 1, size=dim)\n",
        "    step = u / (np.abs(v) ** (1 / Lambda))\n",
        "    return step\n",
        "\n",
        "def cuckoo_search(n=15, dim=2, pa=0.25, max_gen=100):\n",
        "    # Initialize nests randomly in the range [-10, 10]\n",
        "    nests = np.random.uniform(-10, 10, size=(n, dim))\n",
        "    fitness = np.array([objective_function(nest) for nest in nests])\n",
        "\n",
        "    best_idx = np.argmin(fitness)\n",
        "    best_nest = nests[best_idx].copy()\n",
        "    best_fitness = fitness[best_idx]\n",
        "\n",
        "    alpha = 0.01  # Step size scaling factor\n",
        "    Lambda = 1.5  # Lévy flight parameter\n",
        "\n",
        "    for gen in range(max_gen):\n",
        "        for i in range(n):\n",
        "            # Generate new solution by Lévy flight\n",
        "            step = levy_flight(Lambda, dim)\n",
        "            new_nest = nests[i] + alpha * step\n",
        "\n",
        "            # Keep new solution within bounds [-10, 10]\n",
        "            new_nest = np.clip(new_nest, -10, 10)\n",
        "\n",
        "            f_new = objective_function(new_nest)\n",
        "\n",
        "            # Choose a random nest j to potentially replace\n",
        "            j = np.random.randint(n)\n",
        "            if f_new < fitness[j]:\n",
        "                nests[j] = new_nest\n",
        "                fitness[j] = f_new\n",
        "\n",
        "                # Update best solution found so far\n",
        "                if f_new < best_fitness:\n",
        "                    best_fitness = f_new\n",
        "                    best_nest = new_nest.copy()\n",
        "\n",
        "        # Abandon a fraction pa of worst nests and replace with new random ones\n",
        "        num_abandon = int(pa * n)\n",
        "        worst_indices = np.argsort(fitness)[-num_abandon:]\n",
        "        nests[worst_indices] = np.random.uniform(-10, 10, size=(num_abandon, dim))\n",
        "        fitness[worst_indices] = np.array([objective_function(nest) for nest in nests[worst_indices]])\n",
        "\n",
        "        # Update best solution after abandonment\n",
        "        current_best_idx = np.argmin(fitness)\n",
        "        if fitness[current_best_idx] < best_fitness:\n",
        "            best_fitness = fitness[current_best_idx]\n",
        "            best_nest = nests[current_best_idx].copy()\n",
        "\n",
        "    return best_nest, best_fitness\n",
        "\n",
        "# Run example\n",
        "if __name__ == \"__main__\":\n",
        "    best_solution, best_value = cuckoo_search()\n",
        "    print(\"Best solution found:\", best_solution)\n",
        "    print(\"Best objective value:\", best_value)\n"
      ]
    }
  ]
}